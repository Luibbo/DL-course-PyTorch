{
 "cells": [
  {
   "cell_type": "code",
   "execution_count": 1,
   "id": "30fb1ca5",
   "metadata": {},
   "outputs": [],
   "source": [
    "import numpy as np\n",
    "import pandas as pd\n",
    "from matplotlib import pyplot as plt"
   ]
  },
  {
   "cell_type": "code",
   "execution_count": 2,
   "id": "c9e239bd",
   "metadata": {},
   "outputs": [
    {
     "data": {
      "text/html": [
       "<div>\n",
       "<style scoped>\n",
       "    .dataframe tbody tr th:only-of-type {\n",
       "        vertical-align: middle;\n",
       "    }\n",
       "\n",
       "    .dataframe tbody tr th {\n",
       "        vertical-align: top;\n",
       "    }\n",
       "\n",
       "    .dataframe thead th {\n",
       "        text-align: right;\n",
       "    }\n",
       "</style>\n",
       "<table border=\"1\" class=\"dataframe\">\n",
       "  <thead>\n",
       "    <tr style=\"text-align: right;\">\n",
       "      <th></th>\n",
       "      <th>label</th>\n",
       "      <th>pixel0</th>\n",
       "      <th>pixel1</th>\n",
       "      <th>pixel2</th>\n",
       "      <th>pixel3</th>\n",
       "      <th>pixel4</th>\n",
       "      <th>pixel5</th>\n",
       "      <th>pixel6</th>\n",
       "      <th>pixel7</th>\n",
       "      <th>pixel8</th>\n",
       "      <th>...</th>\n",
       "      <th>pixel774</th>\n",
       "      <th>pixel775</th>\n",
       "      <th>pixel776</th>\n",
       "      <th>pixel777</th>\n",
       "      <th>pixel778</th>\n",
       "      <th>pixel779</th>\n",
       "      <th>pixel780</th>\n",
       "      <th>pixel781</th>\n",
       "      <th>pixel782</th>\n",
       "      <th>pixel783</th>\n",
       "    </tr>\n",
       "  </thead>\n",
       "  <tbody>\n",
       "    <tr>\n",
       "      <th>0</th>\n",
       "      <td>1</td>\n",
       "      <td>0</td>\n",
       "      <td>0</td>\n",
       "      <td>0</td>\n",
       "      <td>0</td>\n",
       "      <td>0</td>\n",
       "      <td>0</td>\n",
       "      <td>0</td>\n",
       "      <td>0</td>\n",
       "      <td>0</td>\n",
       "      <td>...</td>\n",
       "      <td>0</td>\n",
       "      <td>0</td>\n",
       "      <td>0</td>\n",
       "      <td>0</td>\n",
       "      <td>0</td>\n",
       "      <td>0</td>\n",
       "      <td>0</td>\n",
       "      <td>0</td>\n",
       "      <td>0</td>\n",
       "      <td>0</td>\n",
       "    </tr>\n",
       "    <tr>\n",
       "      <th>1</th>\n",
       "      <td>0</td>\n",
       "      <td>0</td>\n",
       "      <td>0</td>\n",
       "      <td>0</td>\n",
       "      <td>0</td>\n",
       "      <td>0</td>\n",
       "      <td>0</td>\n",
       "      <td>0</td>\n",
       "      <td>0</td>\n",
       "      <td>0</td>\n",
       "      <td>...</td>\n",
       "      <td>0</td>\n",
       "      <td>0</td>\n",
       "      <td>0</td>\n",
       "      <td>0</td>\n",
       "      <td>0</td>\n",
       "      <td>0</td>\n",
       "      <td>0</td>\n",
       "      <td>0</td>\n",
       "      <td>0</td>\n",
       "      <td>0</td>\n",
       "    </tr>\n",
       "    <tr>\n",
       "      <th>2</th>\n",
       "      <td>1</td>\n",
       "      <td>0</td>\n",
       "      <td>0</td>\n",
       "      <td>0</td>\n",
       "      <td>0</td>\n",
       "      <td>0</td>\n",
       "      <td>0</td>\n",
       "      <td>0</td>\n",
       "      <td>0</td>\n",
       "      <td>0</td>\n",
       "      <td>...</td>\n",
       "      <td>0</td>\n",
       "      <td>0</td>\n",
       "      <td>0</td>\n",
       "      <td>0</td>\n",
       "      <td>0</td>\n",
       "      <td>0</td>\n",
       "      <td>0</td>\n",
       "      <td>0</td>\n",
       "      <td>0</td>\n",
       "      <td>0</td>\n",
       "    </tr>\n",
       "    <tr>\n",
       "      <th>3</th>\n",
       "      <td>4</td>\n",
       "      <td>0</td>\n",
       "      <td>0</td>\n",
       "      <td>0</td>\n",
       "      <td>0</td>\n",
       "      <td>0</td>\n",
       "      <td>0</td>\n",
       "      <td>0</td>\n",
       "      <td>0</td>\n",
       "      <td>0</td>\n",
       "      <td>...</td>\n",
       "      <td>0</td>\n",
       "      <td>0</td>\n",
       "      <td>0</td>\n",
       "      <td>0</td>\n",
       "      <td>0</td>\n",
       "      <td>0</td>\n",
       "      <td>0</td>\n",
       "      <td>0</td>\n",
       "      <td>0</td>\n",
       "      <td>0</td>\n",
       "    </tr>\n",
       "    <tr>\n",
       "      <th>4</th>\n",
       "      <td>0</td>\n",
       "      <td>0</td>\n",
       "      <td>0</td>\n",
       "      <td>0</td>\n",
       "      <td>0</td>\n",
       "      <td>0</td>\n",
       "      <td>0</td>\n",
       "      <td>0</td>\n",
       "      <td>0</td>\n",
       "      <td>0</td>\n",
       "      <td>...</td>\n",
       "      <td>0</td>\n",
       "      <td>0</td>\n",
       "      <td>0</td>\n",
       "      <td>0</td>\n",
       "      <td>0</td>\n",
       "      <td>0</td>\n",
       "      <td>0</td>\n",
       "      <td>0</td>\n",
       "      <td>0</td>\n",
       "      <td>0</td>\n",
       "    </tr>\n",
       "  </tbody>\n",
       "</table>\n",
       "<p>5 rows × 785 columns</p>\n",
       "</div>"
      ],
      "text/plain": [
       "   label  pixel0  pixel1  pixel2  pixel3  pixel4  pixel5  pixel6  pixel7  \\\n",
       "0      1       0       0       0       0       0       0       0       0   \n",
       "1      0       0       0       0       0       0       0       0       0   \n",
       "2      1       0       0       0       0       0       0       0       0   \n",
       "3      4       0       0       0       0       0       0       0       0   \n",
       "4      0       0       0       0       0       0       0       0       0   \n",
       "\n",
       "   pixel8  ...  pixel774  pixel775  pixel776  pixel777  pixel778  pixel779  \\\n",
       "0       0  ...         0         0         0         0         0         0   \n",
       "1       0  ...         0         0         0         0         0         0   \n",
       "2       0  ...         0         0         0         0         0         0   \n",
       "3       0  ...         0         0         0         0         0         0   \n",
       "4       0  ...         0         0         0         0         0         0   \n",
       "\n",
       "   pixel780  pixel781  pixel782  pixel783  \n",
       "0         0         0         0         0  \n",
       "1         0         0         0         0  \n",
       "2         0         0         0         0  \n",
       "3         0         0         0         0  \n",
       "4         0         0         0         0  \n",
       "\n",
       "[5 rows x 785 columns]"
      ]
     },
     "execution_count": 2,
     "metadata": {},
     "output_type": "execute_result"
    }
   ],
   "source": [
    "data = pd.read_csv(\"train.csv\")\n",
    "data.head()"
   ]
  },
  {
   "cell_type": "code",
   "execution_count": 3,
   "id": "24b8c360",
   "metadata": {},
   "outputs": [],
   "source": [
    "data = np.array(data)\n",
    "n, m = data.shape\n",
    "np.random.shuffle(data)\n",
    "\n",
    "data_dev = data[0:1000].T\n",
    "Y_dev = data_dev[0]\n",
    "X_dev = data_dev[1:m]\n",
    "X_dev = X_dev / 255\n",
    "\n",
    "data_train = data[1000:n].T\n",
    "Y_train = data_train[0]\n",
    "X_train = data_train[1:m]\n",
    "X_train = X_train / 255\n"
   ]
  },
  {
   "cell_type": "code",
   "execution_count": 4,
   "id": "dc3419e9",
   "metadata": {},
   "outputs": [],
   "source": [
    "def init_params():\n",
    "    W1 = np.random.rand(10, 784) - 0.5\n",
    "    b1 = np.random.rand(10, 1) - 0.5\n",
    "    W2 = np.random.rand(10, 10) - 0.5\n",
    "    b2 = np.random.rand(10, 1) - 0.5\n",
    "    return W1, b1, W2, b2\n",
    "\n",
    "def ReLU(Z):\n",
    "    return np.maximum(Z, 0)\n",
    "\n",
    "def softmax(Z):\n",
    "    A = np.exp(Z) / sum(np.exp(Z))\n",
    "    return A\n",
    "\n",
    "def forward_prop(W1, b1, W2, b2, X):\n",
    "    Z1 = W1.dot(X) + b1\n",
    "    A1 = ReLU(Z1)\n",
    "    Z2 = W2.dot(A1) + b2\n",
    "    A2 = softmax(Z2)\n",
    "    return Z1, A1, Z2, A2\n",
    "\n",
    "def deriv_ReLU(Z):\n",
    "    return Z > 0\n",
    "\n",
    "def one_hot(Y):\n",
    "    one_hot_Y = np.zeros((Y.size, Y.max() + 1))\n",
    "    one_hot_Y[np.arange(Y.size), Y] = 1\n",
    "    one_hot_Y = one_hot_Y.T\n",
    "    return one_hot_Y\n",
    "\n",
    "def backward_prop(Z1, A1, Z2, A2, W1, W2, X, Y):\n",
    "    one_hot_Y = one_hot(Y)\n",
    "    dZ2 = A2 - one_hot_Y\n",
    "    dW2 = 1 / n * dZ2.dot(A1.T)\n",
    "    db2 = 1 / n * np.sum(dZ2)\n",
    "    dZ1 = W2.T.dot(dZ2) * deriv_ReLU(Z1)\n",
    "    dW1 = 1 / n * dZ1.dot(X.T)\n",
    "    db1 = 1 / n * np.sum(dZ1)\n",
    "    return dW1, db1, dW2, db2\n",
    "\n",
    "def update_params(W1,b1, W2, b2, dW1, db1, dW2, db2, alpha):\n",
    "    W1 = W1 - alpha * dW1\n",
    "    b1 = b1 - alpha * db1\n",
    "    W2 = W2 - alpha * dW2\n",
    "    b2 = b2 - alpha * db2\n",
    "    return W1, b1, W2, b2\n"
   ]
  },
  {
   "cell_type": "code",
   "execution_count": 5,
   "id": "5e414709",
   "metadata": {},
   "outputs": [],
   "source": [
    "def get_predictions(A2):\n",
    "    return np.argmax(A2, 0)\n",
    "\n",
    "def get_accuracy(predictions, Y):\n",
    "    print(predictions, Y)\n",
    "    accuracy = np.sum(predictions == Y) / Y.size\n",
    "    return accuracy\n",
    "\n",
    "def gradient_descent(X, Y, alpha, iterations):\n",
    "    W1, b1, W2, b2 = init_params()\n",
    "    for i in range(iterations):\n",
    "        Z1, A1, Z2, A2 = forward_prop(W1, b1, W2, b2, X)\n",
    "        dW1, db1, dW2, db2 = backward_prop(Z1, A1, Z2, A2, W1, W2, X, Y)\n",
    "        W1, b1, W2, b2 = update_params(W1, b1, W2, b2, dW1, db1, dW2, db2, alpha)\n",
    "        if i % 10 == 0:\n",
    "            print(\"Iterations: \", i)\n",
    "            predictions = get_predictions(A2)\n",
    "            print(get_accuracy(predictions, Y)*100)\n",
    "    return W1, b1, W2, b2        \n",
    "        "
   ]
  },
  {
   "cell_type": "code",
   "execution_count": null,
   "id": "9c33eed1",
   "metadata": {},
   "outputs": [
    {
     "name": "stdout",
     "output_type": "stream",
     "text": [
      "Iterations:  0\n",
      "[3 2 2 ... 2 2 7] [6 7 2 ... 2 2 9]\n",
      "9.953658536585367\n",
      "Iterations:  10\n",
      "[3 9 2 ... 6 2 7] [6 7 2 ... 2 2 9]\n",
      "24.334146341463413\n",
      "Iterations:  20\n",
      "[3 1 2 ... 6 5 7] [6 7 2 ... 2 2 9]\n",
      "34.207317073170735\n",
      "Iterations:  30\n",
      "[6 1 2 ... 6 5 9] [6 7 2 ... 2 2 9]\n",
      "42.13414634146341\n",
      "Iterations:  40\n",
      "[6 1 2 ... 6 4 9] [6 7 2 ... 2 2 9]\n",
      "48.55121951219512\n",
      "Iterations:  50\n",
      "[6 1 2 ... 2 4 9] [6 7 2 ... 2 2 9]\n",
      "54.15365853658537\n",
      "Iterations:  60\n",
      "[6 1 2 ... 2 4 9] [6 7 2 ... 2 2 9]\n",
      "58.84146341463414\n",
      "Iterations:  70\n",
      "[6 1 2 ... 2 4 9] [6 7 2 ... 2 2 9]\n",
      "62.47317073170732\n",
      "Iterations:  80\n",
      "[6 1 2 ... 2 4 9] [6 7 2 ... 2 2 9]\n",
      "65.37073170731708\n",
      "Iterations:  90\n",
      "[6 1 2 ... 2 4 9] [6 7 2 ... 2 2 9]\n",
      "67.69512195121952\n",
      "Iterations:  100\n",
      "[6 1 2 ... 2 4 9] [6 7 2 ... 2 2 9]\n",
      "69.60243902439024\n",
      "Iterations:  110\n",
      "[6 1 2 ... 2 4 9] [6 7 2 ... 2 2 9]\n",
      "71.23170731707317\n",
      "Iterations:  120\n",
      "[6 1 2 ... 2 4 9] [6 7 2 ... 2 2 9]\n",
      "72.57073170731707\n",
      "Iterations:  130\n",
      "[6 1 2 ... 2 4 9] [6 7 2 ... 2 2 9]\n",
      "73.70243902439024\n",
      "Iterations:  140\n",
      "[6 1 2 ... 2 4 9] [6 7 2 ... 2 2 9]\n",
      "74.74146341463414\n",
      "Iterations:  150\n",
      "[6 9 2 ... 2 4 9] [6 7 2 ... 2 2 9]\n",
      "75.6219512195122\n",
      "Iterations:  160\n",
      "[6 9 2 ... 2 4 9] [6 7 2 ... 2 2 9]\n",
      "76.42682926829268\n",
      "Iterations:  170\n",
      "[6 9 2 ... 2 4 9] [6 7 2 ... 2 2 9]\n",
      "77.1829268292683\n",
      "Iterations:  180\n",
      "[6 9 2 ... 2 4 9] [6 7 2 ... 2 2 9]\n",
      "77.8658536585366\n",
      "Iterations:  190\n",
      "[6 9 2 ... 2 4 9] [6 7 2 ... 2 2 9]\n",
      "78.46341463414635\n",
      "Iterations:  200\n",
      "[6 9 2 ... 2 4 9] [6 7 2 ... 2 2 9]\n",
      "79.0\n",
      "Iterations:  210\n",
      "[6 9 2 ... 2 4 9] [6 7 2 ... 2 2 9]\n",
      "79.48536585365854\n",
      "Iterations:  220\n",
      "[6 9 2 ... 2 4 9] [6 7 2 ... 2 2 9]\n",
      "79.95609756097562\n",
      "Iterations:  230\n",
      "[6 9 2 ... 2 4 9] [6 7 2 ... 2 2 9]\n",
      "80.39756097560976\n",
      "Iterations:  240\n",
      "[6 9 2 ... 2 4 9] [6 7 2 ... 2 2 9]\n",
      "80.73902439024391\n",
      "Iterations:  250\n",
      "[6 9 2 ... 2 4 9] [6 7 2 ... 2 2 9]\n",
      "81.10975609756098\n",
      "Iterations:  260\n",
      "[6 9 2 ... 2 4 9] [6 7 2 ... 2 2 9]\n",
      "81.47560975609755\n",
      "Iterations:  270\n",
      "[6 9 2 ... 2 4 9] [6 7 2 ... 2 2 9]\n",
      "81.81463414634146\n",
      "Iterations:  280\n",
      "[6 9 2 ... 2 4 9] [6 7 2 ... 2 2 9]\n",
      "82.06585365853658\n",
      "Iterations:  290\n",
      "[6 9 2 ... 2 4 9] [6 7 2 ... 2 2 9]\n",
      "82.38780487804877\n",
      "Iterations:  300\n",
      "[6 9 2 ... 2 4 9] [6 7 2 ... 2 2 9]\n",
      "82.66829268292682\n",
      "Iterations:  310\n",
      "[6 9 2 ... 2 4 9] [6 7 2 ... 2 2 9]\n",
      "82.95853658536585\n",
      "Iterations:  320\n",
      "[6 9 2 ... 2 4 9] [6 7 2 ... 2 2 9]\n",
      "83.17073170731707\n",
      "Iterations:  330\n",
      "[6 9 2 ... 2 4 9] [6 7 2 ... 2 2 9]\n",
      "83.41951219512195\n",
      "Iterations:  340\n",
      "[6 9 2 ... 2 4 9] [6 7 2 ... 2 2 9]\n",
      "83.6170731707317\n",
      "Iterations:  350\n",
      "[6 9 2 ... 2 4 9] [6 7 2 ... 2 2 9]\n",
      "83.8170731707317\n",
      "Iterations:  360\n",
      "[6 9 2 ... 2 4 9] [6 7 2 ... 2 2 9]\n",
      "83.9951219512195\n",
      "Iterations:  370\n",
      "[6 9 2 ... 2 4 9] [6 7 2 ... 2 2 9]\n",
      "84.18780487804878\n",
      "Iterations:  380\n",
      "[6 9 2 ... 2 4 9] [6 7 2 ... 2 2 9]\n",
      "84.36829268292682\n",
      "Iterations:  390\n",
      "[6 9 2 ... 2 4 9] [6 7 2 ... 2 2 9]\n",
      "84.53170731707317\n",
      "Iterations:  400\n",
      "[6 9 2 ... 2 4 9] [6 7 2 ... 2 2 9]\n",
      "84.66341463414633\n",
      "Iterations:  410\n",
      "[6 9 2 ... 2 4 9] [6 7 2 ... 2 2 9]\n",
      "84.80975609756098\n",
      "Iterations:  420\n",
      "[6 9 2 ... 2 4 9] [6 7 2 ... 2 2 9]\n",
      "84.93170731707316\n",
      "Iterations:  430\n",
      "[6 9 2 ... 2 4 9] [6 7 2 ... 2 2 9]\n",
      "85.08536585365853\n",
      "Iterations:  440\n",
      "[6 9 2 ... 2 4 9] [6 7 2 ... 2 2 9]\n",
      "85.22682926829268\n",
      "Iterations:  450\n",
      "[6 9 2 ... 2 4 9] [6 7 2 ... 2 2 9]\n",
      "85.39024390243902\n",
      "Iterations:  460\n",
      "[6 9 2 ... 2 4 9] [6 7 2 ... 2 2 9]\n",
      "85.49268292682926\n",
      "Iterations:  470\n",
      "[6 9 2 ... 2 4 9] [6 7 2 ... 2 2 9]\n",
      "85.57073170731707\n",
      "Iterations:  480\n",
      "[6 9 2 ... 2 4 9] [6 7 2 ... 2 2 9]\n",
      "85.6780487804878\n",
      "Iterations:  490\n",
      "[6 9 2 ... 2 4 9] [6 7 2 ... 2 2 9]\n",
      "85.79756097560976\n",
      "Time:  18.77951169013977\n"
     ]
    }
   ],
   "source": [
    "import time\n",
    "start_time = time.time()\n",
    "W1, b1, W2, b2 = gradient_descent(X_train, Y_train, 0.10, 500)\n",
    "end_time = time.time()\n",
    "print(f\"Time: {(end_time - start_time):f2}\")"
   ]
  },
  {
   "cell_type": "code",
   "execution_count": 7,
   "id": "e05bdd75",
   "metadata": {},
   "outputs": [],
   "source": [
    "def make_predictions(X, W1, b1, W2, b2):\n",
    "    _, _, _, A2 = forward_prop(W1, b1, W2, b2, X)\n",
    "    predictions = get_predictions(A2)\n",
    "    return predictions\n",
    "\n",
    "def test_prediction(index, W1, b1, W2, b2):\n",
    "    current_image = X_train[:, index, None]\n",
    "    prediction = make_predictions(X_train[:, index, None], W1, b1, W2, b2)\n",
    "    label = Y_train[index]\n",
    "    print(\"Prediction: \", prediction)\n",
    "    print(\"Label: \", label)\n",
    "    \n",
    "    current_image = current_image.reshape((28, 28)) * 255\n",
    "    plt.gray()\n",
    "    plt.imshow(current_image, interpolation='nearest')\n",
    "    plt.show()"
   ]
  },
  {
   "cell_type": "code",
   "execution_count": 8,
   "id": "533c61b2",
   "metadata": {},
   "outputs": [
    {
     "name": "stdout",
     "output_type": "stream",
     "text": [
      "Prediction:  [6]\n",
      "Label:  6\n"
     ]
    },
    {
     "data": {
      "image/png": "[encoded data removed]",
      "text/plain": [
       "<Figure size 640x480 with 1 Axes>"
      ]
     },
     "metadata": {},
     "output_type": "display_data"
    },
    {
     "name": "stdout",
     "output_type": "stream",
     "text": [
      "Prediction:  [9]\n",
      "Label:  7\n"
     ]
    },
    {
     "data": {
      "image/png": "[encoded data removed]",
      "text/plain": [
       "<Figure size 640x480 with 1 Axes>"
      ]
     },
     "metadata": {},
     "output_type": "display_data"
    },
    {
     "name": "stdout",
     "output_type": "stream",
     "text": [
      "Prediction:  [2]\n",
      "Label:  2\n"
     ]
    },
    {
     "data": {
      "image/png": "[encoded data removed]",
      "text/plain": [
       "<Figure size 640x480 with 1 Axes>"
      ]
     },
     "metadata": {},
     "output_type": "display_data"
    },
    {
     "name": "stdout",
     "output_type": "stream",
     "text": [
      "Prediction:  [3]\n",
      "Label:  3\n"
     ]
    },
    {
     "data": {
      "image/png": "[encoded data removed]",
      "text/plain": [
       "<Figure size 640x480 with 1 Axes>"
      ]
     },
     "metadata": {},
     "output_type": "display_data"
    }
   ],
   "source": [
    "test_prediction(0, W1, b1, W2, b2)\n",
    "test_prediction(1, W1, b1, W2, b2)\n",
    "test_prediction(2, W1, b1, W2, b2)\n",
    "test_prediction(3, W1, b1, W2, b2)"
   ]
  },
  {
   "cell_type": "code",
   "execution_count": 9,
   "id": "ff1661a3",
   "metadata": {},
   "outputs": [
    {
     "name": "stdout",
     "output_type": "stream",
     "text": [
      "[0 4 0 3 4 4 0 4 4 6 9 4 0 7 6 3 1 2 9 8 7 8 6 5 2 3 7 5 4 9 9 1 7 8 8 1 2\n",
      " 0 9 2 0 0 4 3 3 6 5 6 6 4 8 3 0 8 7 7 1 4 3 6 2 6 4 6 9 8 1 7 0 1 1 0 6 9\n",
      " 0 1 8 3 4 7 2 3 8 8 2 1 8 3 3 1 9 9 6 6 8 6 9 1 2 1 5 5 8 9 5 5 7 8 5 1 9\n",
      " 0 0 1 8 5 9 4 1 1 6 6 4 0 2 5 5 1 5 1 2 2 3 0 2 9 5 7 2 9 2 1 4 5 4 6 8 6\n",
      " 4 7 1 8 1 8 8 9 1 0 8 3 1 2 7 6 0 7 6 2 0 8 8 5 5 3 9 1 9 2 8 2 7 7 7 3 1\n",
      " 1 4 9 6 4 8 0 6 8 9 9 9 2 5 6 0 6 4 6 1 3 8 1 7 1 6 9 1 5 3 9 4 5 1 5 0 5\n",
      " 2 6 8 4 6 1 9 8 6 8 1 8 5 5 6 3 4 0 9 9 1 2 5 3 8 9 7 4 9 2 2 5 0 6 4 5 6\n",
      " 4 7 1 9 0 0 5 6 4 8 2 9 3 0 1 1 5 4 3 1 1 4 4 2 3 3 4 9 6 0 4 9 5 5 7 6 1\n",
      " 5 7 1 5 9 4 1 9 1 2 8 2 6 2 2 5 0 4 5 8 4 4 3 2 4 1 2 6 8 1 7 4 9 8 7 9 5\n",
      " 8 6 0 8 8 3 4 5 4 5 2 8 6 6 9 5 5 4 4 6 3 1 4 9 4 7 0 5 8 0 0 1 2 7 1 6 9\n",
      " 8 2 0 1 7 0 9 2 1 4 9 3 4 3 3 0 3 7 1 9 2 1 9 3 5 3 2 4 3 1 6 0 0 5 2 9 4\n",
      " 7 0 9 3 0 3 9 3 1 0 7 1 6 5 7 1 5 5 7 2 8 3 3 2 9 5 4 6 8 9 2 8 9 3 4 2 4\n",
      " 1 5 3 7 3 3 3 0 4 1 0 1 0 0 7 7 8 0 1 7 3 5 7 7 7 4 7 6 0 6 1 4 2 1 0 5 4\n",
      " 2 5 1 3 7 6 7 9 8 2 3 1 2 6 6 0 4 3 8 2 9 6 2 0 3 5 3 4 9 8 0 3 8 9 1 3 8\n",
      " 0 9 2 1 1 7 8 5 0 1 0 3 7 2 9 1 2 2 1 3 6 6 6 2 3 4 6 7 4 0 9 4 5 3 9 1 9\n",
      " 1 3 8 3 4 9 8 9 9 1 2 8 3 4 2 0 3 5 9 2 9 8 3 2 4 8 1 6 6 8 2 1 1 7 8 3 7\n",
      " 9 6 8 5 0 6 1 3 2 7 4 9 9 1 1 8 8 6 0 8 7 3 5 1 8 5 6 9 7 3 9 3 1 5 2 1 4\n",
      " 1 9 0 9 3 1 2 5 5 2 3 9 7 3 3 5 2 3 2 0 6 1 1 1 2 2 2 2 4 3 9 9 5 9 3 2 9\n",
      " 7 5 9 0 2 9 0 3 5 2 4 3 2 4 9 7 2 0 2 7 0 2 9 1 0 0 1 7 7 2 5 6 8 2 8 7 9\n",
      " 1 9 5 6 8 8 3 7 7 9 1 6 6 9 2 6 2 0 6 6 8 6 8 2 7 4 8 2 2 3 3 1 6 3 0 1 4\n",
      " 6 8 1 5 4 0 5 1 2 7 4 7 3 5 1 5 4 6 2 9 8 6 3 3 6 9 8 1 1 5 0 5 0 7 0 4 1\n",
      " 3 3 7 0 3 5 4 6 5 3 6 8 8 7 4 9 0 9 3 1 0 7 1 1 0 8 9 6 4 6 8 6 9 6 8 2 9\n",
      " 4 1 9 3 0 9 0 8 7 5 8 1 1 4 1 6 7 2 4 2 6 0 8 2 6 2 6 3 3 3 0 0 0 0 2 0 4\n",
      " 5 1 4 7 0 0 3 2 4 2 6 1 5 2 9 7 0 3 7 4 9 3 4 5 9 7 9 6 1 0 5 6 4 3 9 7 1\n",
      " 7 4 9 1 6 5 4 0 3 5 0 4 3 3 1 2 3 6 3 6 5 9 3 6 8 9 3 7 6 3 5 7 1 7 0 0 1\n",
      " 1 9 5 8 7 0 5 2 6 0 8 7 3 5 8 7 0 9 1 8 2 1 9 8 3 0 8 2 9 0 3 9 7 9 9 9 8\n",
      " 0 5 2 9 0 1 1 5 1 2 8 0 8 6 3 5 3 9 1 1 6 2 1 0 0 1 7 0 3 9 7 7 1 4 2 1 0\n",
      " 7] [0 4 0 3 4 9 0 4 4 6 9 4 0 7 6 3 1 2 9 8 7 8 6 5 2 3 7 5 4 9 4 1 7 8 8 1 3\n",
      " 0 9 2 0 0 4 8 3 6 5 6 6 4 8 4 0 4 7 7 1 4 8 6 2 6 4 6 9 8 1 7 0 1 1 0 6 9\n",
      " 0 1 8 3 4 7 2 3 8 2 2 1 8 5 3 1 9 9 2 6 8 6 9 1 2 1 5 5 8 9 5 3 7 8 5 8 9\n",
      " 0 0 1 8 5 9 6 6 1 6 6 6 0 2 5 5 1 5 1 0 2 3 0 2 9 5 7 2 9 2 1 4 5 4 6 8 6\n",
      " 4 7 1 8 1 8 8 9 1 0 8 3 1 2 7 6 0 7 6 2 0 8 8 5 5 3 9 4 9 2 8 2 3 7 9 3 1\n",
      " 1 4 7 6 4 8 0 6 4 9 9 9 9 5 6 0 6 4 6 1 8 8 1 7 1 6 9 1 5 3 9 9 3 1 5 0 5\n",
      " 2 6 8 4 6 1 3 8 6 8 1 1 5 5 6 3 4 5 4 9 1 2 6 3 8 9 7 4 2 2 2 6 0 6 4 5 6\n",
      " 4 7 1 9 0 0 6 6 2 8 2 9 2 0 1 1 5 4 2 1 1 4 4 2 3 3 4 9 6 0 6 9 5 5 7 6 1\n",
      " 5 7 2 7 9 4 1 9 1 2 8 3 8 2 2 5 0 4 9 5 4 4 3 2 4 1 2 6 8 1 7 8 7 8 7 9 0\n",
      " 5 6 0 8 6 3 4 5 4 5 2 4 6 6 9 3 5 4 4 2 3 1 4 9 4 7 0 5 8 0 0 1 2 7 1 6 9\n",
      " 8 2 0 1 9 0 9 2 1 4 9 5 4 3 3 0 3 7 1 9 8 1 9 3 5 3 2 4 3 1 6 0 0 5 2 9 4\n",
      " 7 0 9 8 0 3 8 1 1 0 7 1 6 5 7 1 5 2 7 4 8 2 3 0 9 5 4 6 8 9 2 5 9 3 9 3 4\n",
      " 1 5 3 7 3 3 3 0 4 1 0 1 0 0 7 7 8 0 1 7 3 5 7 7 7 8 7 6 0 6 1 6 2 1 0 5 4\n",
      " 2 5 1 3 7 6 7 9 8 2 3 1 2 6 6 6 4 3 8 2 9 6 2 0 3 1 3 9 4 8 0 3 1 9 1 3 8\n",
      " 0 9 2 1 1 7 8 5 0 1 0 3 7 2 9 1 2 2 1 3 6 6 6 2 3 4 6 7 2 0 9 4 5 3 9 1 9\n",
      " 1 3 8 3 4 9 8 9 7 1 2 5 3 9 3 5 3 5 9 2 9 9 3 2 2 6 1 6 6 8 2 1 1 7 8 2 9\n",
      " 8 6 8 3 2 6 1 3 2 7 4 9 9 1 1 8 8 6 0 8 7 3 5 1 8 5 6 9 7 3 9 3 1 5 2 1 4\n",
      " 1 9 0 9 5 1 2 5 5 1 3 9 7 3 3 5 4 3 2 0 6 1 1 1 2 2 2 2 4 3 9 9 8 9 3 2 9\n",
      " 7 5 9 0 2 9 0 3 5 2 4 3 2 4 9 7 2 0 2 7 0 2 4 1 5 0 1 9 7 2 5 6 8 2 8 7 9\n",
      " 1 9 5 6 8 8 3 7 7 9 1 6 6 9 2 6 2 0 6 6 8 6 8 2 7 4 8 2 2 3 3 1 6 3 0 6 4\n",
      " 6 8 1 5 4 0 5 2 2 7 4 0 3 5 2 5 4 6 2 9 8 6 3 3 6 9 8 1 1 5 0 5 0 7 0 4 1\n",
      " 3 3 7 0 3 5 4 6 5 3 6 8 3 3 4 9 0 7 5 1 0 7 1 1 0 8 9 6 4 6 8 5 9 6 8 2 9\n",
      " 4 1 9 3 0 0 0 8 7 5 8 1 1 4 8 6 9 2 4 2 6 0 8 2 6 2 6 3 3 8 0 5 0 0 2 0 4\n",
      " 8 1 4 7 0 0 1 2 4 5 6 1 5 2 9 9 0 3 7 4 9 3 4 5 9 7 9 6 1 0 5 6 9 3 9 7 1\n",
      " 7 4 9 2 6 5 4 0 3 5 2 9 3 3 1 2 3 6 8 2 5 9 3 6 8 9 3 7 6 3 5 4 1 7 0 7 1\n",
      " 7 9 6 8 7 0 9 2 6 0 8 7 3 5 8 7 0 9 1 8 2 1 9 8 3 2 3 2 7 0 3 5 7 9 3 9 8\n",
      " 0 5 2 9 0 1 8 9 1 2 8 0 8 2 3 6 3 9 1 7 6 2 1 0 0 1 7 0 3 4 7 7 1 4 2 8 0\n",
      " 7]\n"
     ]
    },
    {
     "data": {
      "text/plain": [
       "np.float64(0.867)"
      ]
     },
     "execution_count": 9,
     "metadata": {},
     "output_type": "execute_result"
    }
   ],
   "source": [
    "dev_predictions = make_predictions(X_dev, W1, b1, W2, b2)\n",
    "get_accuracy(dev_predictions, Y_dev)"
   ]
  },
  {
   "cell_type": "code",
   "execution_count": 10,
   "id": "08926771",
   "metadata": {},
   "outputs": [
    {
     "name": "stdout",
     "output_type": "stream",
     "text": [
      "Prediction:  [4]\n",
      "Label:  4\n"
     ]
    },
    {
     "data": {
      "image/png": "[encoded data removed]",
      "text/plain": [
       "<Figure size 640x480 with 1 Axes>"
      ]
     },
     "metadata": {},
     "output_type": "display_data"
    },
    {
     "name": "stdout",
     "output_type": "stream",
     "text": [
      "Prediction:  [0]\n",
      "Label:  0\n"
     ]
    },
    {
     "data": {
      "image/png": "[encoded data removed]",
      "text/plain": [
       "<Figure size 640x480 with 1 Axes>"
      ]
     },
     "metadata": {},
     "output_type": "display_data"
    },
    {
     "name": "stdout",
     "output_type": "stream",
     "text": [
      "Prediction:  [2]\n",
      "Label:  1\n"
     ]
    },
    {
     "data": {
      "image/png": "[encoded data removed]",
      "text/plain": [
       "<Figure size 640x480 with 1 Axes>"
      ]
     },
     "metadata": {},
     "output_type": "display_data"
    },
    {
     "name": "stdout",
     "output_type": "stream",
     "text": [
      "Prediction:  [7]\n",
      "Label:  7\n"
     ]
    },
    {
     "data": {
      "image/png": "[encoded data removed]",
      "text/plain": [
       "<Figure size 640x480 with 1 Axes>"
      ]
     },
     "metadata": {},
     "output_type": "display_data"
    },
    {
     "name": "stdout",
     "output_type": "stream",
     "text": [
      "Prediction:  [9]\n",
      "Label:  9\n"
     ]
    },
    {
     "data": {
      "image/png": "[encoded data removed]",
      "text/plain": [
       "<Figure size 640x480 with 1 Axes>"
      ]
     },
     "metadata": {},
     "output_type": "display_data"
    },
    {
     "name": "stdout",
     "output_type": "stream",
     "text": [
      "Prediction:  [1]\n",
      "Label:  1\n"
     ]
    },
    {
     "data": {
      "image/png": "[encoded data removed]",
      "text/plain": [
       "<Figure size 640x480 with 1 Axes>"
      ]
     },
     "metadata": {},
     "output_type": "display_data"
    }
   ],
   "source": [
    "test_prediction(51, W1, b1, W2, b2)\n",
    "test_prediction(52, W1, b1, W2, b2)\n",
    "test_prediction(53, W1, b1, W2, b2)\n",
    "test_prediction(54, W1, b1, W2, b2)\n",
    "test_prediction(55, W1, b1, W2, b2)\n",
    "test_prediction(56, W1, b1, W2, b2)"
   ]
  },
  {
   "cell_type": "code",
   "execution_count": 11,
   "id": "ebe39925",
   "metadata": {},
   "outputs": [
    {
     "name": "stdout",
     "output_type": "stream",
     "text": [
      "[[ 0.27919104 -0.08750487 -0.08522131 ... -0.09441473 -0.20545717\n",
      "  -0.30374541]\n",
      " [-0.45437305  0.04124606 -0.06972314 ...  0.21140967 -0.29186384\n",
      "  -0.39560576]\n",
      " [-0.41109202  0.22198976 -0.4368768  ...  0.01906005  0.38719316\n",
      "  -0.1741977 ]\n",
      " ...\n",
      " [-0.05347759 -0.33801044 -0.334747   ...  0.13929551 -0.41626324\n",
      "  -0.20014343]\n",
      " [ 0.14484137  0.31187203  0.3357958  ... -0.31501432  0.02074512\n",
      "   0.42474272]\n",
      " [-0.18480419 -0.24399754  0.48382137 ... -0.28200007 -0.48468302\n",
      "   0.13420688]] [[0.34401423]\n",
      " [1.01898165]\n",
      " [0.77598443]\n",
      " [0.23287521]\n",
      " [0.81825405]\n",
      " [0.88103716]\n",
      " [0.48961494]\n",
      " [0.95688537]\n",
      " [0.68447953]\n",
      " [0.73489152]] [[-1.31566576e-01  3.64889728e-01  6.21790986e-01  1.34915807e-01\n",
      "  -1.39049865e-01  2.55227875e-01  2.34221177e-02  4.14478705e-01\n",
      "  -2.62145883e-02 -9.41413626e-01]\n",
      " [ 2.43348700e-01 -2.37691155e-01 -6.95124092e-01 -8.37340735e-01\n",
      "   2.28882973e-01 -1.94382331e-01 -3.95698256e-01 -7.91242657e-02\n",
      "   3.95891159e-01  7.18059430e-01]\n",
      " [-1.08426990e-02 -2.12727351e-01  3.06304385e-01 -2.98999291e-01\n",
      "   4.80551619e-01  5.34285915e-01  1.64081759e-01 -3.02351345e-01\n",
      "   2.71007381e-01 -1.24472289e-01]\n",
      " [-2.92463079e-01 -3.62177732e-01 -1.08463240e-02  2.04698224e-02\n",
      "   2.58428865e-01  1.39112009e-03  1.79269327e-01  1.57773607e-01\n",
      "   8.88475990e-01 -1.04198471e-01]\n",
      " [-3.51160113e-01 -8.09723804e-02 -1.71291442e-01  7.25953991e-01\n",
      "  -2.78087558e-01  2.37864879e-01 -4.68498745e-01  1.11143519e-02\n",
      "  -6.76063996e-01  3.38564821e-01]\n",
      " [-3.24682617e-02  5.50072110e-01 -4.42198446e-01  1.30905394e-01\n",
      "  -1.14387181e-01  3.18265879e-01 -3.48143081e-02  5.13406979e-01\n",
      "   3.55283201e-01 -3.11172706e-01]\n",
      " [-7.71776763e-01  4.92218849e-01  1.98291069e-01 -2.47664645e-01\n",
      "   7.98782007e-02  7.25737222e-01 -2.50446369e-01 -2.11118425e-01\n",
      "  -2.55398800e-01  3.74881164e-01]\n",
      " [ 3.96315886e-02 -6.25675154e-01 -2.57360936e-02 -6.98033373e-02\n",
      "  -4.06085460e-01  2.80958934e-02  8.91025624e-01  6.03315470e-01\n",
      "  -2.64348693e-02 -7.60396335e-02]\n",
      " [ 2.57374805e-01  2.37509597e-02 -8.94163873e-02  6.04491122e-02\n",
      "   3.51100844e-01 -5.16715889e-04 -2.86314125e-01  4.41944084e-01\n",
      "  -6.26678033e-02  1.90442897e-02]\n",
      " [-1.27443762e-01 -2.83206430e-01  9.11118637e-02  3.86324156e-01\n",
      "  -1.40097637e-01 -5.15843935e-01  3.28764942e-01  1.93318333e-01\n",
      "  -3.12606691e-01  3.27041358e-01]] [[-0.02709968]\n",
      " [ 0.07724444]\n",
      " [ 0.33755978]\n",
      " [ 0.16255947]\n",
      " [-0.00084436]\n",
      " [-0.25417922]\n",
      " [-0.17444816]\n",
      " [-0.02126068]\n",
      " [-0.14290947]\n",
      " [-0.19616326]]\n"
     ]
    }
   ],
   "source": [
    "print(W1, b1, W2, b2)"
   ]
  },
  {
   "cell_type": "code",
   "execution_count": null,
   "id": "f1bdbc38",
   "metadata": {},
   "outputs": [],
   "source": []
  }
 ],
 "metadata": {
  "kernelspec": {
   "display_name": "Python 3",
   "language": "python",
   "name": "python3"
  },
  "language_info": {
   "codemirror_mode": {
    "name": "ipython",
    "version": 3
   },
   "file_extension": ".py",
   "mimetype": "text/x-python",
   "name": "python",
   "nbconvert_exporter": "python",
   "pygments_lexer": "ipython3",
   "version": "3.12.8"
  }
 },
 "nbformat": 4,
 "nbformat_minor": 5
}
